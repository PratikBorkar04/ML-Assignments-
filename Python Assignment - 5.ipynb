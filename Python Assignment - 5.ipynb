{
 "cells": [
  {
   "cell_type": "code",
   "execution_count": 1,
   "id": "479a4a5c",
   "metadata": {},
   "outputs": [
    {
     "name": "stdout",
     "output_type": "stream",
     "text": [
      "Error\n"
     ]
    }
   ],
   "source": [
    "'''\n",
    "Q1. Write a function to compute 5/0 and use try/except to catch the exceptions.\n",
    "'''\n",
    "def compute():\n",
    "    try:\n",
    "        c=5/0\n",
    "    except:\n",
    "        print('Error')\n",
    "        \n",
    "compute()"
   ]
  },
  {
   "cell_type": "code",
   "execution_count": 3,
   "id": "fa8600e1",
   "metadata": {},
   "outputs": [
    {
     "name": "stdout",
     "output_type": "stream",
     "text": [
      "Americans  play Baseball.\n",
      "Americans  play Cricket.\n",
      "Americans  watch Baseball.\n",
      "Americans  watch Cricket.\n",
      "Indians play Baseball.\n",
      "Indians play Cricket.\n",
      "Indians watch Baseball.\n",
      "Indians watch Cricket.\n"
     ]
    }
   ],
   "source": [
    "'''Q2. Implement a Python program to generate all sentences where subject is in [\"Americans\", \"Indians\"] and verb is in [\"Play\", \"watch\"] and the object is in [\"Baseball\",\"cricket\"].\n",
    "Hint: Subject,Verb and Object should be declared in the program as shown below.\n",
    "subjects=[\"Americans \",\"Indians\"] verbs=[\"play\",\"watch\"] objects=[\"Baseball\",\"Cricket\"]\n",
    "\n",
    "Output should come as below:\n",
    "Americans play Baseball. Americans play Cricket. Americans watch Baseball. Americans watch Cricket. Indians play Baseball. Indians play Cricket. Indians watch Baseball. Indians watch Cricket.\n",
    "'''\n",
    "\n",
    "subjects=[\"Americans \",\"Indians\"] \n",
    "verbs=[\"play\",\"watch\"] \n",
    "objects=[\"Baseball\",\"Cricket\"]\n",
    "\n",
    "for x in range(0,len(subjects)):\n",
    "    for y in range(0,len(verbs)):\n",
    "        for z in range(0,len(objects)):\n",
    "            print(subjects[x]+\" \"+verbs[y]+\" \"+ objects[z]+\".\")"
   ]
  },
  {
   "cell_type": "code",
   "execution_count": null,
   "id": "1f7f5a79",
   "metadata": {},
   "outputs": [],
   "source": []
  }
 ],
 "metadata": {
  "kernelspec": {
   "display_name": "Python 3",
   "language": "python",
   "name": "python3"
  },
  "language_info": {
   "codemirror_mode": {
    "name": "ipython",
    "version": 3
   },
   "file_extension": ".py",
   "mimetype": "text/x-python",
   "name": "python",
   "nbconvert_exporter": "python",
   "pygments_lexer": "ipython3",
   "version": "3.8.8"
  }
 },
 "nbformat": 4,
 "nbformat_minor": 5
}
